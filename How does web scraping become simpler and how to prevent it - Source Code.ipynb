{
 "cells": [
  {
   "cell_type": "code",
   "execution_count": 1,
   "metadata": {},
   "outputs": [],
   "source": [
    "from bs4 import BeautifulSoup\n",
    "from selenium import webdriver\n",
    "import time\n",
    "import pandas as pd"
   ]
  },
  {
   "cell_type": "code",
   "execution_count": 2,
   "metadata": {},
   "outputs": [],
   "source": [
    "driver = webdriver.Chrome() # Launch Chrome browser\n",
    "\n",
    "driver.get(\"https://hoopshype.com/salaries/players\") # Navigate to our main page\n",
    "html = driver.page_source # Get the source code\n",
    "soup = BeautifulSoup(html, 'html.parser') # Represent the source code & Allow us to do searching\n",
    "\n",
    "# Locate the salary table & extract all links inside it\n",
    "salary_table = soup.find(\"table\", {\"class\": (\"hh-salaries-ranking-table\", \n",
    "                                             \"hh-salaries-table-sortable\",\n",
    "                                             \"responsive\")}\n",
    "                        )\n",
    "# players_basic_information_links store all links\n",
    "players_basic_information_links  = [\n",
    "    a_tag_element.get(\"href\") \n",
    "    for a_tag_element in salary_table.findChildren(\"a\" , recursive=True)\n",
    "]"
   ]
  },
  {
   "cell_type": "code",
   "execution_count": 3,
   "metadata": {},
   "outputs": [],
   "source": [
    "# Initiate arrays to store information\n",
    "all_players_info = []"
   ]
  },
  {
   "cell_type": "code",
   "execution_count": 4,
   "metadata": {},
   "outputs": [],
   "source": [
    "for basic_information_page_link in players_basic_information_links[:2]:\n",
    "    driver.get(basic_information_page_link ) # Navigate to basic information page\n",
    "    basic_information_html = driver.page_source # Get the source code\n",
    "    soup = BeautifulSoup(basic_information_html, 'html.parser') # Represent the source code & Allow us to do searching\n",
    "\n",
    "    # Extract Information\n",
    "    player_name = soup.find(\"div\", {\"class\": \"player-fullname\"}).text.strip() # Get Name\n",
    "    player_jersey = soup.find(\"div\", {\"class\": \"player-jersey\"}).text.strip() # Get Jersey\n",
    "    player_team = soup.find(\"div\", {\"class\": \"player-team\"}).text.strip() # Get Team\n",
    "\n",
    "    # Get all elements with player-bio-text-line-value\n",
    "    # Match each element to corresponding biography information\n",
    "    bio_text_values = soup.find_all(\"span\", {\"class\": \"player-bio-text-line-value\"})\n",
    "    player_position = bio_text_values[0].text.strip()\n",
    "    player_birthdate = bio_text_values[1].text.strip()\n",
    "    player_height = bio_text_values[2].text.strip()\n",
    "    player_weight = bio_text_values[3].text.strip()\n",
    "    player_salary = bio_text_values[4].text.strip()\n",
    "    \n",
    "    \n",
    "    # Store information\n",
    "    all_players_info.append([\n",
    "        player_name, \n",
    "        player_jersey, \n",
    "        player_team, \n",
    "        player_position, \n",
    "        player_birthdate, \n",
    "        player_height, \n",
    "        player_weight, \n",
    "        player_salary\n",
    "    ])\n",
    "    # Pause 5 seconds before we get information for another player\n",
    "    # Otherwise, we increase the load for their server significantly\n",
    "    time.sleep(5)    "
   ]
  },
  {
   "cell_type": "code",
   "execution_count": 5,
   "metadata": {},
   "outputs": [],
   "source": [
    "# Create a dataframe, you may treat it as a table\n",
    "df = pd.DataFrame(all_players_info, \n",
    "                  columns =[\n",
    "                      \"Name\", \n",
    "                      \"Jersey\", \n",
    "                      \"Team\", \n",
    "                      \"Position\", \n",
    "                      \"Birthdate\", \n",
    "                      \"Height\", \n",
    "                      \"Weight\", \n",
    "                      \"Salary\"\n",
    "                  ]\n",
    "                 )\n"
   ]
  },
  {
   "cell_type": "code",
   "execution_count": 6,
   "metadata": {},
   "outputs": [],
   "source": [
    "df.to_csv(\".\\players.csv\",index=False)"
   ]
  }
 ],
 "metadata": {
  "kernelspec": {
   "display_name": "Python 3",
   "language": "python",
   "name": "python3"
  },
  "language_info": {
   "codemirror_mode": {
    "name": "ipython",
    "version": 3
   },
   "file_extension": ".py",
   "mimetype": "text/x-python",
   "name": "python",
   "nbconvert_exporter": "python",
   "pygments_lexer": "ipython3",
   "version": "3.8.5"
  }
 },
 "nbformat": 4,
 "nbformat_minor": 4
}
